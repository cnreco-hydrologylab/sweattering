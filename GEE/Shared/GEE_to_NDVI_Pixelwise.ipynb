{
 "cells": [
  {
   "cell_type": "code",
   "execution_count": 314,
   "id": "169a10ed-1060-434a-9d60-4c8c80350751",
   "metadata": {},
   "outputs": [
    {
     "name": "stdout",
     "output_type": "stream",
     "text": [
      "Define area of interest. \n",
      "If you have a GeoJSON file, copy paste.\n",
      "If you have a KML, export to GeoJSON (plenty of free tools online).\n"
     ]
    },
    {
     "name": "stdin",
     "output_type": "stream",
     "text": [
      "Please provide title for geometry:  budrio\n",
      "Save nc file? [[y]/n] \n",
      "Do you want daily images with all bands? [[y]/n] \n",
      "Do you want a single multilayer image with NDVI values only and days as bands? [[y]/n] \n"
     ]
    }
   ],
   "source": [
    "import ee\n",
    "import datetime as dt\n",
    "from funcs_gee import *\n",
    "import xarray as xr\n",
    "import rasterio\n",
    "import rioxarray\n",
    "\n",
    "# ----------------------------------------------------------------------\n",
    "\n",
    "# Define the time range.\n",
    "start_date = '2023-01-01'\n",
    "end_date = '2023-12-31'\n",
    "geometry_title='budrio' # input('Please provide title for geometry: ')\n",
    "\n",
    "# Define your geometry, with coordinates [lon_min, lat_min, lon_max, lat_max]\n",
    "print('Define area of interest. \\nIf you have a GeoJSON file, copy paste.\\n'+\n",
    "      'If you have a KML, export to GeoJSON (plenty of free tools online).')\n",
    "\n",
    "geoJSON = {\n",
    "\"type\": \"FeatureCollection\",\n",
    "\"name\": \"merged\",\n",
    "\"crs\": { \"type\": \"name\", \"properties\": { \"name\": \"urn:ogc:def:crs:OGC:1.3:CRS84\" } },\n",
    "\"features\": [\n",
    "{ \"type\": \"Feature\", \"properties\": { \"Name\": \"Budrio_campo_safe_half\", \"description\": None, \"tessellate\": 1 }, \"geometry\": { \"type\": \"Polygon\", \"coordinates\": [ [ [ 11.53262979564736, 44.570842547510622 ], [ 11.532328100248961, 44.570445732016537 ], [ 11.53264162483709, 44.570339694294631 ], [ 11.532950828277439, 44.570738040751841 ] ] ] } } ] }\n",
    "\n",
    "nfeatures = len(geoJSON['features'])\n",
    "coords_geojson = [geoJSON['features'][i]['geometry']['coordinates'] for i in range(nfeatures)]\n",
    "\n",
    "\n",
    "# ----------------------------------------------------------------------\n",
    "\n",
    "# Function to calculate NDVI.\n",
    "def addNDVI(image):\n",
    "    ndvi = image.normalizedDifference(['B8', 'B4']).rename('NDVI')\n",
    "    return image.addBands(ndvi)\n",
    "\n",
    "\n",
    "# Initialize the Earth Engine module.\n",
    "ee.Initialize()\n",
    "\n",
    "region = ee.Geometry.MultiPolygon(coords)\n",
    "\n",
    "# Load the Sentinel-2 SR Harmonized collection.\n",
    "s2 = ee.ImageCollection('COPERNICUS/S2_SR_HARMONIZED') \\\n",
    "    .filterDate(start_date, end_date) \\\n",
    "    .filterBounds(region)\n",
    "\n",
    "proj=s2.first().select('B2').projection()\n",
    "scale_mod=ee.Number(proj.nominalScale()).getInfo()\n",
    "trans_mod=proj.getInfo()['transform']\n",
    "crs_mod=proj.getInfo()['crs']\n",
    "\n",
    "# Update masks/add bands over the collection.\n",
    "s2_ndvi = s2.map(addNDVI)\n",
    "\n",
    "# Get pixels in the region with all bands, lon, lat and time\n",
    "ndvi = np.array(s2_ndvi.getRegion(region, scale_mod).getInfo())\n",
    "ndvi[ndvi==None]=np.nan\n",
    "\n",
    "# for img in ndvi[1:]:\n",
    "#     img[3]=dt.datetime.fromtimestamp(img[3]/1000).strftime(\"%Y-%m-%d %H:%M\")\n",
    "\n",
    "# Build dataframe and clean timestamps\n",
    "ndvi_df = pd.DataFrame(ndvi[1:], columns=ndvi[0])\n",
    "ndvi_df['datetime'] = pd.to_datetime([dt.datetime.fromtimestamp(ts).strftime(\"%Y-%m-%d\") for ts in ndvi_df['time']/1000])\n",
    "drop_columns=['AOT', 'WVP', 'SCL', 'TCI_R', 'TCI_G', 'TCI_B', 'MSK_CLDPRB', 'MSK_SNWPRB', 'QA10', 'QA20', 'QA60','time','id']\n",
    "ndvi_df.drop(drop_columns, axis=1, inplace=True)\n",
    "ndvi_df['coords']=list(zip(ndvi_df.longitude, ndvi_df.latitude))\n",
    "ndvi_df_unique=ndvi_df.groupby(by=['datetime','coords']).max()\n",
    "ndvi_df_unique=ndvi_df_unique.astype('float')\n",
    "fn=f'NDVI_{start_date}_{end_date}'\n",
    "\n",
    "dates=np.unique(ndvi_df.datetime)\n",
    "\n",
    "answ=input('Save nc file? [[y]/n]')\n",
    "if answ=='y' or answ=='':\n",
    "    ds.to_netcdf(fn+'.nc')\n",
    "\n",
    "ds=ndvi_df_unique.reset_index().drop(columns=['coords']).set_index(['datetime', 'latitude', 'longitude']).to_xarray()\n",
    "\n",
    "ds.rio.set_spatial_dims(x_dim=\"longitude\", y_dim=\"latitude\", inplace=True)\n",
    "\n",
    "# Set the Coordinate Reference System (CRS) if it is not set\n",
    "# You need to know the EPSG code of your CRS\n",
    "# For example, the EPSG code for WGS84 is 'EPSG:4326'\n",
    "ds.rio.write_crs(\"EPSG:4326\", inplace=True)\n",
    "\n",
    "daily_opt=input('Do you want daily images with all bands? [[y]/n]')\n",
    "if daily_opt=='' or daily_opt=='y':\n",
    "    for i, d in enumerate(ds.datetime):\n",
    "        date_name=str(d.dt.strftime(\"%Y-%m-%d\").values)\n",
    "        data_daily=ds.sel(datetime=d)\n",
    "        data_daily.rio.to_raster(f\"./Maps/{date_name}.tif\")\n",
    "multi_opt=input('Do you want a single multilayer image with NDVI values only and days as bands? [[y]/n]')\n",
    "if multi_opt=='' or multi_opt=='y':\n",
    "    data_var=ds['NDVI']\n",
    "    data_var.rio.to_raster(f\"./Maps/{fn}.tif\")"
   ]
  },
  {
   "cell_type": "raw",
   "id": "0b19d93a-b421-4e29-ae0d-b0b02963457c",
   "metadata": {},
   "source": [
    "date=pd.to_datetime(np.unique(ndvi_df.datetime))\n",
    "lon=np.unique(ndvi_df.longitude)\n",
    "lat=np.unique(ndvi_df.latitude)\n",
    "lon_2d, lat_2d = np.meshgrid(lon, lat)\n",
    "lon_1d=lon_2d.ravel(); lat_1d=lat_2d.ravel()"
   ]
  },
  {
   "cell_type": "raw",
   "id": "defce8ef-0363-4f83-ba7e-615544f2a0b8",
   "metadata": {},
   "source": [
    "answ=input('Save csv file? [[y]/n]')\n",
    "if answ=='y' or answ=='':\n",
    "    ndvi_df_unique.to_csv(fn+'.csv')"
   ]
  },
  {
   "cell_type": "raw",
   "id": "0399b544-b914-42fe-b476-4124b2955370",
   "metadata": {},
   "source": [
    "# check if a flipud is needed to sort latitudes\n",
    "ddf=df.iloc[0]\n",
    "lon_min_id=ddf['longitude'].index(min(lon))\n",
    "lat_min_id=ddf['latitude'].index(min(lat))\n",
    "apply_flipud=True if lat_min_id==0 else False\n",
    "\n",
    "df=ndvi_df_unique.reset_index('coords', drop=True).groupby('datetime').agg(list)"
   ]
  },
  {
   "cell_type": "raw",
   "id": "827cf378-b613-4643-a112-adae746b3c67",
   "metadata": {},
   "source": [
    "ds=[]\n",
    "for i, d in enumerate(date):\n",
    "    ddf=df.iloc[i]\n",
    "    londf=ddf['longitude']\n",
    "    latdf=ddf['latitude']\n",
    "    ndvi2df=np.zeros((len(lat),len(lon)))\n",
    "    for id, (lo, la) in enumerate(zip(londf, latdf)):\n",
    "        i=list(lon).index(lo)\n",
    "        j=list(lat).index(la)\n",
    "        ndvi2df[j][i]=ddf.NDVI[id]\n",
    "    if apply_flipud: ndvi2df=np.flipud(ndvi2df); lat_2d=np.flipud(lat_2d)\n",
    "    ds.append([d, lon_2d, lat_2d, ndvi2df])"
   ]
  },
  {
   "cell_type": "raw",
   "id": "4a4a6000-159d-4b00-9e07-75450bae7a76",
   "metadata": {},
   "source": [
    "dsframe=pd.DataFrame(ds, columns=['datetime', 'lon', 'lat', 'ndvi']).set_index('datetime')"
   ]
  }
 ],
 "metadata": {
  "kernelspec": {
   "display_name": "Python 3 (ipykernel)",
   "language": "python",
   "name": "python3"
  },
  "language_info": {
   "codemirror_mode": {
    "name": "ipython",
    "version": 3
   },
   "file_extension": ".py",
   "mimetype": "text/x-python",
   "name": "python",
   "nbconvert_exporter": "python",
   "pygments_lexer": "ipython3",
   "version": "3.9.18"
  }
 },
 "nbformat": 4,
 "nbformat_minor": 5
}
